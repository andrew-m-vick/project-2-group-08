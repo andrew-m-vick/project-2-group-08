{
 "cells": [
  {
   "cell_type": "code",
   "execution_count": null,
   "id": "0b6ea946-124e-42be-8ffc-ea931158d5a2",
   "metadata": {},
   "outputs": [],
   "source": [
    "# We need to create a SQLite database\n",
    "# I'm going to use a API, but you can use CSVs\n",
    "\n",
    "# Load data into a PANDAS dataframe -> load into the database\n",
    "\n",
    "# data science\n",
    "import matplotlib.pyplot as plt\n",
    "import pandas as pd\n",
    "import numpy as np\n",
    "import seaborn as sns\n",
    "import datetime\n",
    "\n",
    "# API\n",
    "import requests\n",
    "import json\n",
    "\n",
    "# Python SQL toolkit and Object Relational Mapper\n",
    "import sqlalchemy\n",
    "from sqlalchemy.ext.automap import automap_base\n",
    "from sqlalchemy.orm import Session\n",
    "from sqlalchemy import create_engine, text, inspect, func"
   ]
  }
 ],
 "metadata": {
  "kernelspec": {
   "display_name": "Python 3 (ipykernel)",
   "language": "python",
   "name": "python3"
  },
  "language_info": {
   "codemirror_mode": {
    "name": "ipython",
    "version": 3
   },
   "file_extension": ".py",
   "mimetype": "text/x-python",
   "name": "python",
   "nbconvert_exporter": "python",
   "pygments_lexer": "ipython3",
   "version": "3.10.14"
  }
 },
 "nbformat": 4,
 "nbformat_minor": 5
}
