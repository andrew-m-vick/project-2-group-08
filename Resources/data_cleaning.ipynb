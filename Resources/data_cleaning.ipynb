{
 "cells": [
  {
   "cell_type": "code",
   "execution_count": 1,
   "id": "9db9c59c-8a93-4df5-8301-60863ddfafaa",
   "metadata": {},
   "outputs": [],
   "source": [
    "import pandas as pd"
   ]
  },
  {
   "cell_type": "code",
   "execution_count": 2,
   "id": "824c9c64-d0e7-41db-ab09-0b01a6b0c1b1",
   "metadata": {},
   "outputs": [],
   "source": [
    "# Load csv file\n",
    "df = pd.read_csv('AQI and Lat Long of Countries.csv') "
   ]
  },
  {
   "cell_type": "code",
   "execution_count": 3,
   "id": "26b2295a-d1c4-4ccc-a854-a5b44cbee7fa",
   "metadata": {},
   "outputs": [
    {
     "data": {
      "text/html": [
       "<div>\n",
       "<style scoped>\n",
       "    .dataframe tbody tr th:only-of-type {\n",
       "        vertical-align: middle;\n",
       "    }\n",
       "\n",
       "    .dataframe tbody tr th {\n",
       "        vertical-align: top;\n",
       "    }\n",
       "\n",
       "    .dataframe thead th {\n",
       "        text-align: right;\n",
       "    }\n",
       "</style>\n",
       "<table border=\"1\" class=\"dataframe\">\n",
       "  <thead>\n",
       "    <tr style=\"text-align: right;\">\n",
       "      <th></th>\n",
       "      <th>Country</th>\n",
       "      <th>City</th>\n",
       "      <th>AQI Value</th>\n",
       "      <th>AQI Category</th>\n",
       "      <th>CO AQI Value</th>\n",
       "      <th>CO AQI Category</th>\n",
       "      <th>Ozone AQI Value</th>\n",
       "      <th>Ozone AQI Category</th>\n",
       "      <th>NO2 AQI Value</th>\n",
       "      <th>NO2 AQI Category</th>\n",
       "      <th>PM2.5 AQI Value</th>\n",
       "      <th>PM2.5 AQI Category</th>\n",
       "      <th>lat</th>\n",
       "      <th>lng</th>\n",
       "    </tr>\n",
       "  </thead>\n",
       "  <tbody>\n",
       "    <tr>\n",
       "      <th>0</th>\n",
       "      <td>Russian Federation</td>\n",
       "      <td>Praskoveya</td>\n",
       "      <td>51</td>\n",
       "      <td>Moderate</td>\n",
       "      <td>1</td>\n",
       "      <td>Good</td>\n",
       "      <td>36</td>\n",
       "      <td>Good</td>\n",
       "      <td>0</td>\n",
       "      <td>Good</td>\n",
       "      <td>51</td>\n",
       "      <td>Moderate</td>\n",
       "      <td>44.7444</td>\n",
       "      <td>44.2031</td>\n",
       "    </tr>\n",
       "    <tr>\n",
       "      <th>1</th>\n",
       "      <td>Brazil</td>\n",
       "      <td>Presidente Dutra</td>\n",
       "      <td>41</td>\n",
       "      <td>Good</td>\n",
       "      <td>1</td>\n",
       "      <td>Good</td>\n",
       "      <td>5</td>\n",
       "      <td>Good</td>\n",
       "      <td>1</td>\n",
       "      <td>Good</td>\n",
       "      <td>41</td>\n",
       "      <td>Good</td>\n",
       "      <td>-5.2900</td>\n",
       "      <td>-44.4900</td>\n",
       "    </tr>\n",
       "    <tr>\n",
       "      <th>2</th>\n",
       "      <td>Brazil</td>\n",
       "      <td>Presidente Dutra</td>\n",
       "      <td>41</td>\n",
       "      <td>Good</td>\n",
       "      <td>1</td>\n",
       "      <td>Good</td>\n",
       "      <td>5</td>\n",
       "      <td>Good</td>\n",
       "      <td>1</td>\n",
       "      <td>Good</td>\n",
       "      <td>41</td>\n",
       "      <td>Good</td>\n",
       "      <td>-11.2958</td>\n",
       "      <td>-41.9869</td>\n",
       "    </tr>\n",
       "    <tr>\n",
       "      <th>3</th>\n",
       "      <td>Italy</td>\n",
       "      <td>Priolo Gargallo</td>\n",
       "      <td>66</td>\n",
       "      <td>Moderate</td>\n",
       "      <td>1</td>\n",
       "      <td>Good</td>\n",
       "      <td>39</td>\n",
       "      <td>Good</td>\n",
       "      <td>2</td>\n",
       "      <td>Good</td>\n",
       "      <td>66</td>\n",
       "      <td>Moderate</td>\n",
       "      <td>37.1667</td>\n",
       "      <td>15.1833</td>\n",
       "    </tr>\n",
       "    <tr>\n",
       "      <th>4</th>\n",
       "      <td>Poland</td>\n",
       "      <td>Przasnysz</td>\n",
       "      <td>34</td>\n",
       "      <td>Good</td>\n",
       "      <td>1</td>\n",
       "      <td>Good</td>\n",
       "      <td>34</td>\n",
       "      <td>Good</td>\n",
       "      <td>0</td>\n",
       "      <td>Good</td>\n",
       "      <td>20</td>\n",
       "      <td>Good</td>\n",
       "      <td>53.0167</td>\n",
       "      <td>20.8833</td>\n",
       "    </tr>\n",
       "  </tbody>\n",
       "</table>\n",
       "</div>"
      ],
      "text/plain": [
       "              Country              City  AQI Value AQI Category  CO AQI Value  \\\n",
       "0  Russian Federation        Praskoveya         51     Moderate             1   \n",
       "1              Brazil  Presidente Dutra         41         Good             1   \n",
       "2              Brazil  Presidente Dutra         41         Good             1   \n",
       "3               Italy   Priolo Gargallo         66     Moderate             1   \n",
       "4              Poland         Przasnysz         34         Good             1   \n",
       "\n",
       "  CO AQI Category  Ozone AQI Value Ozone AQI Category  NO2 AQI Value  \\\n",
       "0            Good               36               Good              0   \n",
       "1            Good                5               Good              1   \n",
       "2            Good                5               Good              1   \n",
       "3            Good               39               Good              2   \n",
       "4            Good               34               Good              0   \n",
       "\n",
       "  NO2 AQI Category  PM2.5 AQI Value PM2.5 AQI Category      lat      lng  \n",
       "0             Good               51           Moderate  44.7444  44.2031  \n",
       "1             Good               41               Good  -5.2900 -44.4900  \n",
       "2             Good               41               Good -11.2958 -41.9869  \n",
       "3             Good               66           Moderate  37.1667  15.1833  \n",
       "4             Good               20               Good  53.0167  20.8833  "
      ]
     },
     "execution_count": 3,
     "metadata": {},
     "output_type": "execute_result"
    }
   ],
   "source": [
    "df.head()"
   ]
  },
  {
   "cell_type": "code",
   "execution_count": 4,
   "id": "a2a73743-0f49-473c-919f-54adf801e727",
   "metadata": {},
   "outputs": [
    {
     "name": "stdout",
     "output_type": "stream",
     "text": [
      "<class 'pandas.core.frame.DataFrame'>\n",
      "RangeIndex: 16695 entries, 0 to 16694\n",
      "Data columns (total 14 columns):\n",
      " #   Column              Non-Null Count  Dtype  \n",
      "---  ------              --------------  -----  \n",
      " 0   Country             16393 non-null  object \n",
      " 1   City                16695 non-null  object \n",
      " 2   AQI Value           16695 non-null  int64  \n",
      " 3   AQI Category        16695 non-null  object \n",
      " 4   CO AQI Value        16695 non-null  int64  \n",
      " 5   CO AQI Category     16695 non-null  object \n",
      " 6   Ozone AQI Value     16695 non-null  int64  \n",
      " 7   Ozone AQI Category  16695 non-null  object \n",
      " 8   NO2 AQI Value       16695 non-null  int64  \n",
      " 9   NO2 AQI Category    16695 non-null  object \n",
      " 10  PM2.5 AQI Value     16695 non-null  int64  \n",
      " 11  PM2.5 AQI Category  16695 non-null  object \n",
      " 12  lat                 16695 non-null  float64\n",
      " 13  lng                 16695 non-null  float64\n",
      "dtypes: float64(2), int64(5), object(7)\n",
      "memory usage: 1.8+ MB\n"
     ]
    }
   ],
   "source": [
    "df.info()"
   ]
  },
  {
   "cell_type": "code",
   "execution_count": 5,
   "id": "438872e7-247d-49e4-83f9-b3e1390736ac",
   "metadata": {},
   "outputs": [],
   "source": [
    "# Drop null values in `Country` column\n",
    "df_dropped = df.dropna(subset=['Country'])"
   ]
  },
  {
   "cell_type": "code",
   "execution_count": 7,
   "id": "42ee77be-2cfb-45a7-8c52-8511c1023974",
   "metadata": {},
   "outputs": [
    {
     "name": "stdout",
     "output_type": "stream",
     "text": [
      "<class 'pandas.core.frame.DataFrame'>\n",
      "Index: 16393 entries, 0 to 16694\n",
      "Data columns (total 14 columns):\n",
      " #   Column              Non-Null Count  Dtype  \n",
      "---  ------              --------------  -----  \n",
      " 0   Country             16393 non-null  object \n",
      " 1   City                16393 non-null  object \n",
      " 2   AQI Value           16393 non-null  int64  \n",
      " 3   AQI Category        16393 non-null  object \n",
      " 4   CO AQI Value        16393 non-null  int64  \n",
      " 5   CO AQI Category     16393 non-null  object \n",
      " 6   Ozone AQI Value     16393 non-null  int64  \n",
      " 7   Ozone AQI Category  16393 non-null  object \n",
      " 8   NO2 AQI Value       16393 non-null  int64  \n",
      " 9   NO2 AQI Category    16393 non-null  object \n",
      " 10  PM2.5 AQI Value     16393 non-null  int64  \n",
      " 11  PM2.5 AQI Category  16393 non-null  object \n",
      " 12  lat                 16393 non-null  float64\n",
      " 13  lng                 16393 non-null  float64\n",
      "dtypes: float64(2), int64(5), object(7)\n",
      "memory usage: 1.9+ MB\n"
     ]
    }
   ],
   "source": [
    "df_dropped.info()"
   ]
  },
  {
   "cell_type": "code",
   "execution_count": 9,
   "id": "17013382-6cc2-4757-bf50-b91c918badf6",
   "metadata": {},
   "outputs": [
    {
     "name": "stdout",
     "output_type": "stream",
     "text": [
      "['Russian Federation' 'Brazil' 'Italy' 'Poland' 'United States of America'\n",
      " 'Belgium' 'China' 'Netherlands' 'France' 'Colombia' 'Romania' 'Indonesia'\n",
      " 'Finland' 'South Africa'\n",
      " 'United Kingdom of Great Britain and Northern Ireland' 'India' 'Haiti'\n",
      " 'Philippines' 'Latvia' 'Germany' 'New Zealand' 'Mexico' 'Japan'\n",
      " 'El Salvador' 'Nigeria' 'South Sudan' 'Ireland' 'Turkey'\n",
      " 'Democratic Republic of the Congo' 'Canada' 'Switzerland' 'Denmark'\n",
      " 'Cameroon' 'Australia' 'Portugal' 'Ethiopia' 'Hungary'\n",
      " 'Iran (Islamic Republic of)' 'Israel' \"Côte d'Ivoire\" 'Papua New Guinea'\n",
      " 'Madagascar' 'Ghana' 'Armenia' 'Guatemala' 'Pakistan' 'Thailand'\n",
      " 'Malaysia' 'Ecuador' 'Argentina' 'Peru' 'Dominican Republic' 'Azerbaijan'\n",
      " 'Spain' 'Guinea' 'Bolivia (Plurinational State of)' 'Chile'\n",
      " 'Republic of North Macedonia' 'Kazakhstan' 'Serbia' 'Egypt' 'Czechia'\n",
      " 'Malawi' 'Sierra Leone' 'Ukraine' 'Benin' 'Namibia' 'Albania' 'Guyana'\n",
      " 'Senegal' 'Lesotho' 'Venezuela (Bolivarian Republic of)' 'Bulgaria'\n",
      " 'Somalia' 'Solomon Islands' 'Paraguay' 'Zimbabwe' 'Austria' 'Croatia'\n",
      " 'Chad' 'Honduras' 'United Republic of Tanzania' 'Cambodia' 'Uganda'\n",
      " 'Cuba' 'Uruguay' 'Republic of Moldova' 'Myanmar' 'Angola'\n",
      " 'Kingdom of Eswatini' 'Zambia' 'Morocco' 'Slovakia' 'Sweden' 'Belarus'\n",
      " 'Norway' 'Mongolia' 'Malta' 'Rwanda' 'Botswana' 'Sri Lanka' 'Burundi'\n",
      " 'Jamaica' 'Kenya' 'Slovenia' 'Mauritius' 'Nicaragua' 'Uzbekistan'\n",
      " 'Republic of Korea' 'Burkina Faso' 'Cabo Verde' 'Mozambique' 'Mauritania'\n",
      " 'Guinea-Bissau' 'United Arab Emirates' 'Bangladesh' 'Eritrea' 'Barbados'\n",
      " 'Algeria' 'Saudi Arabia' 'Syrian Arab Republic' 'Tajikistan' 'Greece'\n",
      " 'Liberia' \"Lao People's Democratic Republic\" 'Bhutan' 'Costa Rica'\n",
      " 'Gambia' 'Kyrgyzstan' 'Lithuania' 'Viet Nam' 'Bosnia and Herzegovina'\n",
      " 'Saint Lucia' 'Iraq' 'Mali' 'Georgia' 'Libya' 'Niger'\n",
      " 'Central African Republic' 'Sudan' 'Trinidad and Tobago' 'Turkmenistan'\n",
      " 'Gabon' 'Estonia' 'Panama' 'Togo' 'Congo' 'Comoros' 'Nepal' 'Jordan'\n",
      " 'Montenegro' 'Equatorial Guinea' 'Luxembourg' 'Aruba' 'Tunisia' 'Belize'\n",
      " 'Andorra' 'Iceland' 'Palau' 'Suriname' 'Singapore' 'Maldives' 'Bahrain'\n",
      " 'Lebanon' 'Seychelles' 'State of Palestine' 'Cyprus' 'Afghanistan'\n",
      " 'Yemen' 'Oman' 'Kuwait' 'Saint Kitts and Nevis' 'Qatar' 'Monaco']\n"
     ]
    }
   ],
   "source": [
    "# Extract unique values from the 'country' column\n",
    "unique_countries = df_dropped['Country'].unique()\n",
    "\n",
    "# Display the unique countries\n",
    "print(unique_countries)"
   ]
  },
  {
   "cell_type": "code",
   "execution_count": 14,
   "id": "cb8a7c8f-c242-46d1-acce-5400bd557d75",
   "metadata": {},
   "outputs": [],
   "source": [
    "# Create new CSV\n",
    "df_dropped.to_csv('AQI_clean.csv', index=False)"
   ]
  },
  {
   "cell_type": "code",
   "execution_count": null,
   "id": "5c3638d1-1427-43e1-bd2a-4b1d20b659f5",
   "metadata": {},
   "outputs": [],
   "source": []
  }
 ],
 "metadata": {
  "kernelspec": {
   "display_name": "Python 3 (ipykernel)",
   "language": "python",
   "name": "python3"
  },
  "language_info": {
   "codemirror_mode": {
    "name": "ipython",
    "version": 3
   },
   "file_extension": ".py",
   "mimetype": "text/x-python",
   "name": "python",
   "nbconvert_exporter": "python",
   "pygments_lexer": "ipython3",
   "version": "3.10.14"
  }
 },
 "nbformat": 4,
 "nbformat_minor": 5
}
